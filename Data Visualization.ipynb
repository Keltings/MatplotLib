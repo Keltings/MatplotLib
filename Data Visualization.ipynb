{
 "cells": [
  {
   "cell_type": "markdown",
   "id": "12005016",
   "metadata": {},
   "source": [
    "## Data Visualization\n",
    "The technique to present the data in apictorial or graphial format\n",
    "It enables stakeholders and decision makers to analyze data visually.\n",
    "The data in graphical format allows them to identify new trends and patterns easily\n",
    "\n",
    "### Benefits:\n",
    "    1. Simplifies the complex quantitative information\n",
    "    2. Analyze and explore big data easily\n",
    "    3. Identifies the ares for improvement\n",
    "    4. Identifies the relationships between data points and variables\n",
    "    5. Explores new patterns and reveals hidden patterns\n"
   ]
  },
  {
   "cell_type": "markdown",
   "id": "760f7ef2",
   "metadata": {},
   "source": [
    "### Data Visualization Considerations\n",
    " - Clarity\n",
    "     - Ensure the dataset is complete and relevant. This enables the DS to use the newpatterns yield from thedata in the relevant places\n",
    " - Accuracy\n",
    "     - Ensure using appropriate graphical representation to convey the right message\n",
    " - Efficiency\n",
    "     - Use efficient visualization technique which  highlights all the data points\n",
    " "
   ]
  },
  {
   "cell_type": "markdown",
   "id": "8c64cd24",
   "metadata": {},
   "source": [
    "### Data Visualization Factors\n",
    "basic factors that one need to be aware of before visualizing the data.\n",
    "- The visual effect includes the usage of appropriate shapes, colors and size to represent the analyzed data\n",
    "- The cordinates system helps to organize the data points within the provided coordinates\n",
    "- The data types and scale choose the type of data such as numeric or categorical\n",
    "- The informative interpretation helps create visuals in an effective and easily interpretable manner using labels, titles, legends and printers "
   ]
  },
  {
   "cell_type": "markdown",
   "id": "7a01f914",
   "metadata": {},
   "source": [
    "### Python Libraries\n",
    "Many new Python data visualization libraries are introduces recently eg:\n",
    "matplotlib, pygal,folium,seaborn,bokeh,vispy,networkx"
   ]
  },
  {
   "cell_type": "markdown",
   "id": "69e56dc5",
   "metadata": {},
   "source": [
    "## 1.Matplolib\n",
    "A Python 2D plotting library for data visualization and creating interactive graphics or plots.\n",
    "   - It is a multi-platform data visualiztion tool; therefore fast and efficient\n",
    "    - It can work well with many OS and and graphic backends\n",
    "    - It has high-quality graphics and plots to print and view for various range of graphs\n",
    "    - With Jupyter notebook intergration, the developers are free to spend their time implementing features\n",
    "    - It has large comunity support and cross platform support as it is an open source tool\n",
    "    - It has full contorl over graphs or plots styles"
   ]
  },
  {
   "cell_type": "markdown",
   "id": "71d25fb3",
   "metadata": {},
   "source": [
    "#### Understanding the plot\n",
    "A graphical represenation of data which shows the relationship between two variables or the distribution of data\n",
    "You can create a plot using 4 simple steps:\n",
    "- Import the required libraries\n",
    "- Define or import the dataset\n",
    "- Set the plot parameters\n",
    "- display the created plot"
   ]
  },
  {
   "cell_type": "code",
   "execution_count": 29,
   "id": "9ac07b07",
   "metadata": {},
   "outputs": [
    {
     "name": "stderr",
     "output_type": "stream",
     "text": [
      "UsageError: unrecognized arguments: # display the plot within jupyter notebook\n"
     ]
    }
   ],
   "source": [
    "#import numpy for generating random numbres\n",
    "import numpy as np\n",
    "#import matplotlib library\n",
    "import matplotlib.pyplot as plt #plot nmbers\n",
    "from matplotlib import style #set the grid style\n",
    "%matplotlib inline # display the plot within jupyter notebook"
   ]
  },
  {
   "cell_type": "code",
   "execution_count": null,
   "id": "486613aa",
   "metadata": {},
   "outputs": [],
   "source": [
    "#generate random numbers\n",
    "randomNumber = np.random.rand(10)"
   ]
  },
  {
   "cell_type": "code",
   "execution_count": null,
   "id": "bb8cf20c",
   "metadata": {},
   "outputs": [],
   "source": [
    "#view them\n",
    "print(randomNumber)"
   ]
  },
  {
   "cell_type": "code",
   "execution_count": 30,
   "id": "060c759a",
   "metadata": {},
   "outputs": [
    {
     "ename": "NameError",
     "evalue": "name 'randomNumber' is not defined",
     "output_type": "error",
     "traceback": [
      "\u001b[1;31m---------------------------------------------------------------------------\u001b[0m",
      "\u001b[1;31mNameError\u001b[0m                                 Traceback (most recent call last)",
      "\u001b[1;32m~\\AppData\\Local\\Temp/ipykernel_5824/1242126080.py\u001b[0m in \u001b[0;36m<module>\u001b[1;34m\u001b[0m\n\u001b[0;32m      2\u001b[0m \u001b[0mstyle\u001b[0m\u001b[1;33m.\u001b[0m\u001b[0muse\u001b[0m\u001b[1;33m(\u001b[0m\u001b[1;34m'ggplot'\u001b[0m\u001b[1;33m)\u001b[0m\u001b[1;33m\u001b[0m\u001b[1;33m\u001b[0m\u001b[0m\n\u001b[0;32m      3\u001b[0m \u001b[1;31m#plot the random numbers\u001b[0m\u001b[1;33m\u001b[0m\u001b[1;33m\u001b[0m\u001b[0m\n\u001b[1;32m----> 4\u001b[1;33m \u001b[0mplt\u001b[0m\u001b[1;33m.\u001b[0m\u001b[0mplot\u001b[0m\u001b[1;33m(\u001b[0m\u001b[0mrandomNumber\u001b[0m\u001b[1;33m,\u001b[0m\u001b[1;34m'g'\u001b[0m\u001b[1;33m,\u001b[0m\u001b[0mlabel\u001b[0m\u001b[1;33m=\u001b[0m\u001b[1;34m'line one'\u001b[0m\u001b[1;33m,\u001b[0m\u001b[0mlinewidth\u001b[0m\u001b[1;33m=\u001b[0m\u001b[1;36m2\u001b[0m\u001b[1;33m)\u001b[0m\u001b[1;33m\u001b[0m\u001b[1;33m\u001b[0m\u001b[0m\n\u001b[0m\u001b[0;32m      5\u001b[0m \u001b[1;31m#x axis is number of random numbers (index)\u001b[0m\u001b[1;33m\u001b[0m\u001b[1;33m\u001b[0m\u001b[0m\n\u001b[0;32m      6\u001b[0m \u001b[0mplt\u001b[0m\u001b[1;33m.\u001b[0m\u001b[0mxlabel\u001b[0m\u001b[1;33m(\u001b[0m\u001b[1;34m'Range'\u001b[0m\u001b[1;33m)\u001b[0m\u001b[1;33m\u001b[0m\u001b[1;33m\u001b[0m\u001b[0m\n",
      "\u001b[1;31mNameError\u001b[0m: name 'randomNumber' is not defined"
     ]
    }
   ],
   "source": [
    "#select the style of the plot\n",
    "style.use('ggplot')\n",
    "#plot the random numbers\n",
    "plt.plot(randomNumber,'g',label='line one',linewidth=2)\n",
    "#x axis is number of random numbers (index)\n",
    "plt.xlabel('Range')\n",
    "# y axis is actual random numbers\n",
    "plt.ylabel('Numbers')\n",
    "#title of the plot\n",
    "plt.title('First Plot')\n",
    "\n",
    "\n",
    "plt.legend()# plot the graph based on the set condition\n",
    "plt.show() # display the created plot"
   ]
  },
  {
   "cell_type": "markdown",
   "id": "3ea1dc70",
   "metadata": {},
   "source": [
    "#### Line properties\n",
    "There are various line properties:\n",
    " 1. alpha\n",
    " 2. animated\n",
    "#### Plot Graphs\n",
    " 1. linstyle\n",
    " 2. linewidth\n",
    " 3. markerstyle"
   ]
  },
  {
   "cell_type": "markdown",
   "id": "a1c5aafb",
   "metadata": {},
   "source": [
    "## Use case\n",
    "A fruit firm wants to know how many people visit its website in a particular time. This analysis helps it control and monitor the website traffic"
   ]
  },
  {
   "cell_type": "markdown",
   "id": "a2db55ce",
   "metadata": {},
   "source": [
    "##### Plot With (X,Y)"
   ]
  },
  {
   "cell_type": "code",
   "execution_count": null,
   "id": "0e65a9be",
   "metadata": {},
   "outputs": [],
   "source": [
    "#website trafic data\n",
    "#number of users/visitors on the website\n",
    "web_customers = [123,645,950,1290,1630,1450,1334,1295,465,205,80]\n",
    "\n",
    "#tyme distribution(hourly)\n",
    "time_hrs = [7,8,9,10,11,12,13,14,15,16,17]"
   ]
  },
  {
   "cell_type": "code",
   "execution_count": null,
   "id": "a3a463ba",
   "metadata": {},
   "outputs": [],
   "source": [
    "# select the style of the plot\n",
    "style.use('ggplot')\n",
    "\n",
    "#plot the website traffic data (x-axis hrs and y axis as number of users)\n",
    "plt.plot(time_hrs, web_customers)\n",
    "\n",
    "#set the title of the plot\n",
    "plt.title('WebSite Traffic')\n",
    "\n",
    "#set label for x axis\n",
    "plt.xlabel('Hrs')\n",
    "\n",
    "#set label for y axis\n",
    "plt.ylabel('Number of users')\n",
    "plt.show"
   ]
  },
  {
   "cell_type": "markdown",
   "id": "cb87a4f1",
   "metadata": {},
   "source": [
    "#### Controlling line patterns and colors"
   ]
  },
  {
   "cell_type": "code",
   "execution_count": null,
   "id": "92504cb0",
   "metadata": {},
   "outputs": [],
   "source": [
    "# select the style of the plot\n",
    "style.use('ggplot')\n",
    "\n",
    "#plot the website traffic data (x-axis hrs and y axis as number of users)\n",
    "plt.plot(time_hrs, web_customers,color='b',linestyle='--',linewidth=3)\n",
    "#set the title of the plot\n",
    "plt.title('WebSite Traffic')\n",
    "\n",
    "#set label for x axis\n",
    "plt.xlabel('Hrs')\n",
    "\n",
    "#set label for y axis\n",
    "plt.ylabel('Number of users')\n",
    "plt.show"
   ]
  },
  {
   "cell_type": "markdown",
   "id": "14121cf0",
   "metadata": {},
   "source": [
    "#### Set axis, labels, and legend property\n",
    "It is also possible to set the desired axis to interpret the required result\n",
    "Axis is to define the range on x and y axes"
   ]
  },
  {
   "cell_type": "code",
   "execution_count": null,
   "id": "d775e01b",
   "metadata": {},
   "outputs": [],
   "source": [
    "# select the style of the plot\n",
    "style.use('ggplot')\n",
    "\n",
    "#plot the website traffic data (x-axis hrs and y axis as number of users)\n",
    "plt.plot(time_hrs, web_customers,color='r',linestyle='--', label= 'web traffic', linewidth=3)\n",
    "plt.axis([6.5,17.5,50,2000])\n",
    "#set the title of the plot\n",
    "plt.title('WebSite Traffic')\n",
    "\n",
    "#set label for x axis\n",
    "plt.xlabel('Hrs')\n",
    "\n",
    "#set label for y axis\n",
    "plt.ylabel('Number of users')\n",
    "\n",
    "plt.legend()\n",
    "plt.show()"
   ]
  },
  {
   "cell_type": "markdown",
   "id": "91318e07",
   "metadata": {},
   "source": [
    "#### Alpha and Annotation\n",
    "Alpha is attribute which controls the transparency of the line. Lower the alpha value more transparent the line is\n",
    "\n",
    "The annotate  method is used to annotate the graph. It has several attributes which helps to annotate the plot\n",
    "- Max, denotes the annotation text\n",
    "- ha, indicates the horizontal alignment\n",
    "- va, indicates the vertical alignment\n",
    "- xytext, indicates the text position\n",
    "- xy, indicates the arrow position\n",
    "- arrowprops, indicates the properties of the arros"
   ]
  },
  {
   "cell_type": "code",
   "execution_count": null,
   "id": "1a24b236",
   "metadata": {},
   "outputs": [],
   "source": [
    "# select the style of the plot\n",
    "style.use('ggplot')\n",
    "\n",
    "#plot the website traffic data (x-axis hrs and y axis as number of users)\n",
    "# also setting the alpha value for transparency\n",
    "plt.plot(time_hrs, web_customers,alpha=.4)\n",
    "#set the title of the plot\n",
    "plt.title('WebSite Traffic')\n",
    "\n",
    "#annotate\n",
    "plt.annotate('Max', ha='center',va='bottom',xytext=(8,1500),xy=(11,1630),\n",
    "            arrowprops={'facecolor':'green'})\n",
    "#set label for x axis\n",
    "plt.xlabel('Hrs')\n",
    "\n",
    "#set label for y axis\n",
    "plt.ylabel('Number of users')\n",
    "plt.show()"
   ]
  },
  {
   "cell_type": "markdown",
   "id": "cdfbb927",
   "metadata": {},
   "source": [
    "### Multiple plots"
   ]
  },
  {
   "cell_type": "code",
   "execution_count": null,
   "id": "b5c46612",
   "metadata": {},
   "outputs": [],
   "source": [
    "# website traffic data\n",
    "#number of users/ visitors on the website\n",
    "\n",
    "#monday web traffic\n",
    "monday = [123,645,950,1290,1630,1450,1034,1295,465,205,80]\n",
    "\n",
    "#tuesday web traffic\n",
    "tuesday = [95,680,889,1145,1670,1232,1119,1265,510,310,110]\n",
    "\n",
    "#wednesday web trafric\n",
    "wednesday = [105,630,700,1006,1520,1124,1239,1380,508,610,230]\n",
    "\n",
    "#time distribution(houry)\n",
    "time_hrs = [7,8,9,10,11,12,13,14,15,16,17]"
   ]
  },
  {
   "cell_type": "code",
   "execution_count": null,
   "id": "a7b61035",
   "metadata": {
    "scrolled": true
   },
   "outputs": [],
   "source": [
    "# select the style of the plot\n",
    "style.use('ggplot')\n",
    "\n",
    "#plot the website traffic data (x-axis hrs and y axis as number of users)\n",
    "#plot the moday web traffic with red color\n",
    "plt.plot(time_hrs, monday, color='g',linewidth=2, label= 'monday')\n",
    "\n",
    "#plot the tuesday web traffic with red color\n",
    "plt.plot(time_hrs, tuesday, color='b',linewidth=1.5, label= 'monday')\n",
    "\n",
    "#plot the wednesday web traffic with red color\n",
    "plt.plot(time_hrs, wednesday, color='r',linewidth=1, label= 'monday')\n",
    "\n",
    "plt.axis([6.5,17.5,50,2000])\n",
    "\n",
    "#set the title of the plot\n",
    "plt.title('WebSite Traffic')\n",
    "\n",
    "#set label for x axis\n",
    "plt.xlabel('Hrs')\n",
    "\n",
    "#set label for y axis\n",
    "plt.ylabel('Number of users')\n",
    "\n",
    "plt.legend()\n",
    "plt.show()"
   ]
  },
  {
   "cell_type": "markdown",
   "id": "2f3623d6",
   "metadata": {},
   "source": [
    "#### Subplots\n",
    "Subplots is used to display multiple plots in the same window. You can arange  can plots in a regular grid\n",
    "all u need to do is specify the number of rows, plot and columns"
   ]
  },
  {
   "cell_type": "raw",
   "id": "fd18bf82",
   "metadata": {},
   "source": [
    "Syntax\n",
    "subplot(m,n,p)\n",
    "divides the current window into an m by n grid and creates an axis for a subplot in the position specified by p \n",
    "subplots(2,1,2) & (2,1,1)- divides grid it 2 vertically stacked plots\n",
    "\n",
    "\n",
    "subplots(2,2,1)(2,2,2)(2,2,3)(2,2,4) - divides into 4 plots"
   ]
  },
  {
   "cell_type": "markdown",
   "id": "29900d6b",
   "metadata": {},
   "source": [
    "#### Layout and spacing adjustents \n",
    "are two importamnt factors to be considered while creating subplots\n",
    "\n",
    " - Use plt.subplots_adjust()\n",
    "      - method with the parameters hspace and wspace to adjust the distances between subplots and move them around on the grid"
   ]
  },
  {
   "cell_type": "code",
   "execution_count": null,
   "id": "6feca02a",
   "metadata": {},
   "outputs": [],
   "source": [
    "#import required libraries\n",
    "import matplotlib.pyplot as plt\n",
    "from matplotlib import style\n",
    "%matplotlib inline"
   ]
  },
  {
   "cell_type": "code",
   "execution_count": null,
   "id": "113a5747",
   "metadata": {},
   "outputs": [],
   "source": [
    "# define temp, wind, humidity, precipitation data and time hrs data\n",
    "temp = [79,75,74,75,73,81,77,81,95,93,95,97,98,99,98,98,97,92,94,92,83,83,83,81]\n",
    "\n",
    "wind = [14,12,10,13,6,9,13,12,13,17,13,17,18,8,7,25,10,16,0,16,9,9,9,5]\n",
    "\n",
    "time = [1,2,3,4,5,6,7,8,9,10,11,12,13,14,15,16,17,18,19,20,21,22,23,24]\n",
    "\n",
    "humidity = [73,76,78,81,81,84,84,79,71,64,58,54,51,48,46,46,45,46,48,53,60,67,69,73]\n",
    "\n",
    "precipitation = [26,42,69,48,11,16,5,11,3,48,26,21,58,69,74,53,79,53,58,26,74,95,69,58]\n"
   ]
  },
  {
   "cell_type": "code",
   "execution_count": null,
   "id": "50454bca",
   "metadata": {
    "scrolled": true
   },
   "outputs": [],
   "source": [
    "#draw subplots for (1,2,1) & (1,2,2)\n",
    "plt.figure(figsize=(8,4))\n",
    "plt.subplots_adjust(hspace=.25)\n",
    "plt.subplot(1,2,1)\n",
    "plt.title('Temp')\n",
    "plt.plot(time,temp,color='g',linestyle='-',linewidth=1)\n",
    "plt.subplot(1,2,2)\n",
    "plt.title('Wind')\n",
    "plt.plot(time,wind,color='b',linestyle='-',linewidth=1)"
   ]
  },
  {
   "cell_type": "markdown",
   "id": "14ded4db",
   "metadata": {},
   "source": [
    "Subplots Displayed side by side"
   ]
  },
  {
   "cell_type": "code",
   "execution_count": null,
   "id": "fbe96d7a",
   "metadata": {
    "scrolled": true
   },
   "outputs": [],
   "source": [
    "#draw subplots for (2,1,1) & (2,1,2)\n",
    "plt.figure(figsize=(6,6))\n",
    "plt.subplots_adjust(hspace=.25)\n",
    "plt.subplot(2,1,1)\n",
    "plt.title('Humidity')\n",
    "plt.plot(time,humidity,color='r',linestyle='-',linewidth=1)\n",
    "plt.subplot(2,1,2)\n",
    "plt.title('Precipitation')\n",
    "plt.plot(time,precipitation,color='b',linestyle='-',linewidth=1)"
   ]
  },
  {
   "cell_type": "code",
   "execution_count": null,
   "id": "419ec976",
   "metadata": {},
   "outputs": [],
   "source": [
    "Vertically split subplots"
   ]
  },
  {
   "cell_type": "code",
   "execution_count": null,
   "id": "a3c0ef43",
   "metadata": {},
   "outputs": [],
   "source": [
    "#draw subplots for (2,2,1),(2,2,2),(2,2,3) & (2,2,4)\n",
    "#draw subplots for (1,2,1) & (1,2,2)\n",
    "plt.figure(figsize=(9,9))\n",
    "plt.subplots_adjust(hspace=.3)\n",
    "\n",
    "plt.subplot(2,2,1)\n",
    "plt.title('Temp (F)')\n",
    "plt.plot(time,temp,color='g',linestyle='-',linewidth=1)\n",
    "\n",
    "plt.subplot(2,2,2)\n",
    "plt.title('Wind(MPH)')\n",
    "plt.plot(time,wind,color='b',linestyle='-',linewidth=1)\n",
    "\n",
    "plt.subplot(2,2,3)\n",
    "plt.title('Humidity(%)')\n",
    "plt.plot(time,humidity,color='r',linestyle='-',linewidth=1)\n",
    "\n",
    "plt.subplot(2,2,4)\n",
    "plt.title('Precipitation')\n",
    "plt.plot(time,precipitation,color='y',linestyle='-',linewidth=1)"
   ]
  },
  {
   "cell_type": "markdown",
   "id": "e54013aa",
   "metadata": {},
   "source": [
    "You can see the 4 subplots displayed in a single frame"
   ]
  },
  {
   "cell_type": "markdown",
   "id": "2c3a0345",
   "metadata": {},
   "source": [
    "### Types of Plots\n",
    "You can create different types ofplots using matplotlib:\n",
    "- Histograms\n",
    "- scatterplot\n",
    "- Heatmap\n",
    "- Pie charts\n",
    "- Error bar"
   ]
  },
  {
   "cell_type": "markdown",
   "id": "11f9f1f9",
   "metadata": {},
   "source": [
    "#### 1. Histogram\n",
    "Graphical representation of a probability distribution. It is a kind of a bar chart. \n",
    "Using matplotlib and its bar chart function you can create a histogram chart\n",
    " - They display the number of values within a specified interval\n",
    " - They aresuitable for large data sets as they can be grouped within intervals"
   ]
  },
  {
   "cell_type": "markdown",
   "id": "527485d3",
   "metadata": {},
   "source": [
    "#### 2.\n",
    "Used to graphically display relationshipbetween variables. However,to control a plot, it is \n",
    "###### recommended to use scatter() method\n",
    "- Shows the correlation between variables\n",
    "- Suitable for large datasets\n",
    "- Easy to find clusters\n",
    "- Possible to represent each piece of data as a point on the plot"
   ]
  },
  {
   "cell_type": "code",
   "execution_count": null,
   "id": "32479637",
   "metadata": {},
   "outputs": [],
   "source": [
    "#import the boston data set from sklearn library\n",
    "from sklearn.datasets import load_boston\n",
    "#import matplotlib"
   ]
  },
  {
   "cell_type": "code",
   "execution_count": null,
   "id": "136c691b",
   "metadata": {},
   "outputs": [],
   "source": [
    "#load boston dataset\n",
    "real_state_data = load_boston()"
   ]
  },
  {
   "cell_type": "code",
   "execution_count": null,
   "id": "92381458",
   "metadata": {},
   "outputs": [],
   "source": [
    "#view boston dataset\n",
    "print(real_state_data.DESCR)"
   ]
  },
  {
   "cell_type": "code",
   "execution_count": null,
   "id": "f9004ba9",
   "metadata": {},
   "outputs": [],
   "source": [
    "#define x axis for the data\n",
    "x_axis = real_state_data.data"
   ]
  },
  {
   "cell_type": "code",
   "execution_count": null,
   "id": "9d120d53",
   "metadata": {},
   "outputs": [],
   "source": [
    "#define y axis for the target\n",
    "y_axis = real_state_data.target"
   ]
  },
  {
   "cell_type": "code",
   "execution_count": null,
   "id": "27660ca4",
   "metadata": {},
   "outputs": [],
   "source": [
    "#plot histogram\n",
    "style.use('ggplot')\n",
    "plt.figure(figsize=(7,7))\n",
    "plt.hist(y_axis,bins=50)\n",
    "plt.xlabel('price in 1000s USD')\n",
    "plt.ylabel('number of houses')\n",
    "plt.show()"
   ]
  },
  {
   "cell_type": "code",
   "execution_count": null,
   "id": "37f74535",
   "metadata": {},
   "outputs": [],
   "source": [
    "#plot scatter plot\n",
    "style.use('ggplot')\n",
    "plt.figure(figsize=(7,7))\n",
    "plt.scatter(x_axis[:,5],y_axis)\n",
    "plt.xlabel('price in 1000s USD')\n",
    "plt.ylabel('number of houses')\n",
    "plt.show()"
   ]
  },
  {
   "cell_type": "markdown",
   "id": "f1e1127f",
   "metadata": {},
   "source": [
    "#### 3. Heat Map\n",
    "A way to visualize 2D data. You can gain deeper and faster insights about data than other types of plots\n",
    "- Draws attention to the rsik prone area\n",
    "- Uses the entire dataset to draw meaningful insights\n",
    "- used for clustre analysis and can deal with large datsets"
   ]
  },
  {
   "cell_type": "code",
   "execution_count": null,
   "id": "40100014",
   "metadata": {},
   "outputs": [],
   "source": [
    "#import matplotlib libraries\n",
    "#import seaborn library\n",
    "import seaborn as sns"
   ]
  },
  {
   "cell_type": "code",
   "execution_count": null,
   "id": "75613135",
   "metadata": {},
   "outputs": [],
   "source": [
    "#to show plot on a notebook\n",
    "%matplotlib inline"
   ]
  },
  {
   "cell_type": "code",
   "execution_count": null,
   "id": "2a3ad4f7",
   "metadata": {},
   "outputs": [],
   "source": [
    "#load flights data from sns dataset(built in)\n",
    "flight_data =sns.load_dataset('flights')"
   ]
  },
  {
   "cell_type": "code",
   "execution_count": null,
   "id": "2292631e",
   "metadata": {},
   "outputs": [],
   "source": [
    "#view top 5 recors\n",
    "flight_data.head()"
   ]
  },
  {
   "cell_type": "code",
   "execution_count": null,
   "id": "0e709128",
   "metadata": {},
   "outputs": [],
   "source": [
    "# use pivot method to rearrange the dataset\n",
    "flight_data = flight_data.pivot('month','year','passengers')"
   ]
  },
  {
   "cell_type": "code",
   "execution_count": null,
   "id": "794d5edd",
   "metadata": {},
   "outputs": [],
   "source": [
    "#view the data set\n",
    "flight_data.head()"
   ]
  },
  {
   "cell_type": "code",
   "execution_count": null,
   "id": "078f2784",
   "metadata": {},
   "outputs": [],
   "source": [
    "#use heatmap method to generate the heatmap of the flights data\n",
    "sns.heatmap(flight_data)"
   ]
  },
  {
   "cell_type": "markdown",
   "id": "5115d673",
   "metadata": {},
   "source": [
    "#### 4. Pie Chart\n",
    "Used to show percentage or proportional data.\n",
    "matplotlib provieds the pie() method to create pie charts\n",
    "- Summarizes a large dataset in visual form\n",
    "- Displays the relative proportion of multiple classes of data\n",
    "- Sizeof the circle is made proportional to the total quality"
   ]
  },
  {
   "cell_type": "code",
   "execution_count": null,
   "id": "ff3e44fa",
   "metadata": {},
   "outputs": [],
   "source": [
    "#import required libraries\n",
    "#matplotlib\n",
    "#matplolib in line"
   ]
  },
  {
   "cell_type": "code",
   "execution_count": null,
   "id": "aade7126",
   "metadata": {},
   "outputs": [],
   "source": [
    "#job data in percentile\n",
    "job_data = ['40','20','17','8','5','10']\n",
    "\n",
    "#define labels as different departments\n",
    "labels = 'IT', 'Finance', 'Marketing','Admin','HR','Operations'\n",
    "\n",
    "#explode the first slice which is IT\n",
    "explode = (0.05,0.05,0,0,0,0)\n",
    "\n",
    "#draw the pie chart and set the parameters\n",
    "plt.pie(job_data, labels=labels, explode=explode)\n",
    "\n",
    "#show the plot\n",
    "plt.show()"
   ]
  },
  {
   "cell_type": "markdown",
   "id": "a3f4ff39",
   "metadata": {},
   "source": [
    "#### 5. Error Bar\n",
    "Used to graphically represent the variability of data. It is used mainly to identify errors. It builds confidence about the data analysis by revealing the statiistical difference between the two groups of data\n",
    "- Shows the variability in data and indicates the errros\n",
    "- Depicts the precision in the data analysis\n",
    "- Demonstrates how well a function and model are used in the data analysis\n",
    "- Describes the underlying data"
   ]
  },
  {
   "cell_type": "markdown",
   "id": "f5cedb46",
   "metadata": {},
   "source": [
    "## 2. Seaborn\n",
    "Python visualization library based on matplotlib. It provieds a high level interface for drawing attractive statistical graphics\n",
    " - Possess built-in themes for better visualization\n",
    " - Has tools, built in statistical functions which reveal hidden patterns in the dataset\n",
    " - Has functions to visualize matrices of data"
   ]
  },
  {
   "cell_type": "code",
   "execution_count": null,
   "id": "b4f8a12a",
   "metadata": {},
   "outputs": [],
   "source": [
    "#import the required libraries\n",
    "import pandas as pd\n",
    "import matplotlib.pyplot as plt\n",
    "import seaborn as sns\n",
    "\n",
    "#to viewtheplot in nootebook\n",
    "%matplotlib inline"
   ]
  },
  {
   "cell_type": "code",
   "execution_count": null,
   "id": "0f3e2d96",
   "metadata": {},
   "outputs": [],
   "source": [
    "#import the auto data set\n",
    "df_auto = pd.read_csv(\"auto_data.csv\")"
   ]
  },
  {
   "cell_type": "code",
   "execution_count": null,
   "id": "d60842e4",
   "metadata": {},
   "outputs": [],
   "source": [
    "#view the top 5records\n",
    "df_auto.head()"
   ]
  },
  {
   "cell_type": "markdown",
   "id": "5a32c022",
   "metadata": {},
   "source": [
    "Create a user defined function and use the apply method to replace origin with the corresponding continent value."
   ]
  },
  {
   "cell_type": "code",
   "execution_count": null,
   "id": "ee8732b3",
   "metadata": {},
   "outputs": [],
   "source": [
    "#write a user defined function for origin\n",
    "# 1-USA, 2-Europe, 3-Asia\n",
    "def origin(num):\n",
    "    if num == 1:\n",
    "        return 'USA'\n",
    "    elif num == 2:\n",
    "        return 'Europe'\n",
    "    else:\n",
    "        return 'Asia'\n",
    "    \n",
    "#use apply function\n",
    "df_auto['origin'] = df_auto['origin'].apply(origin)"
   ]
  },
  {
   "cell_type": "code",
   "execution_count": null,
   "id": "aca96609",
   "metadata": {},
   "outputs": [],
   "source": [
    "#view first 10 data points after applying the ueser defined function to data set\n",
    "df_auto.head(30)"
   ]
  },
  {
   "cell_type": "code",
   "execution_count": null,
   "id": "c759a86b",
   "metadata": {},
   "outputs": [],
   "source": [
    "#drwa the pair plot using sns for mpg, weight, origin and with hue origin, set the size to 4\n",
    "#note: hue is variable in dataset to map plot aspects to different colors\n",
    "sns.pairplot(df_auto[['mpg','weight','origin']], hue='origin',size=4)"
   ]
  },
  {
   "cell_type": "code",
   "execution_count": null,
   "id": "ddb4d678",
   "metadata": {},
   "outputs": [],
   "source": []
  },
  {
   "cell_type": "code",
   "execution_count": null,
   "id": "e2c4430a",
   "metadata": {},
   "outputs": [],
   "source": []
  }
 ],
 "metadata": {
  "kernelspec": {
   "display_name": "Python 3 (ipykernel)",
   "language": "python",
   "name": "python3"
  },
  "language_info": {
   "codemirror_mode": {
    "name": "ipython",
    "version": 3
   },
   "file_extension": ".py",
   "mimetype": "text/x-python",
   "name": "python",
   "nbconvert_exporter": "python",
   "pygments_lexer": "ipython3",
   "version": "3.9.7"
  }
 },
 "nbformat": 4,
 "nbformat_minor": 5
}
